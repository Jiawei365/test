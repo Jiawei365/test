{
 "cells": [
  {
   "cell_type": "code",
   "execution_count": 1,
   "id": "b4c45fb9-e8a1-4e60-9e71-f821c14779a3",
   "metadata": {},
   "outputs": [],
   "source": [
    "from sklearn import tree\n",
    "from sklearn.datasets import load_wine\n",
    "from sklearn.model_selection import train_test_split"
   ]
  },
  {
   "cell_type": "code",
   "execution_count": 2,
   "id": "4f718d33-eaf2-4627-9afd-07cb50979938",
   "metadata": {},
   "outputs": [],
   "source": [
    "wine = load_wine()"
   ]
  },
  {
   "cell_type": "code",
   "execution_count": 3,
   "id": "79877375-67d7-439a-93ea-923215c24f37",
   "metadata": {},
   "outputs": [
    {
     "data": {
      "text/plain": [
       "{'data': array([[1.423e+01, 1.710e+00, 2.430e+00, ..., 1.040e+00, 3.920e+00,\n",
       "         1.065e+03],\n",
       "        [1.320e+01, 1.780e+00, 2.140e+00, ..., 1.050e+00, 3.400e+00,\n",
       "         1.050e+03],\n",
       "        [1.316e+01, 2.360e+00, 2.670e+00, ..., 1.030e+00, 3.170e+00,\n",
       "         1.185e+03],\n",
       "        ...,\n",
       "        [1.327e+01, 4.280e+00, 2.260e+00, ..., 5.900e-01, 1.560e+00,\n",
       "         8.350e+02],\n",
       "        [1.317e+01, 2.590e+00, 2.370e+00, ..., 6.000e-01, 1.620e+00,\n",
       "         8.400e+02],\n",
       "        [1.413e+01, 4.100e+00, 2.740e+00, ..., 6.100e-01, 1.600e+00,\n",
       "         5.600e+02]]),\n",
       " 'target': array([0, 0, 0, 0, 0, 0, 0, 0, 0, 0, 0, 0, 0, 0, 0, 0, 0, 0, 0, 0, 0, 0,\n",
       "        0, 0, 0, 0, 0, 0, 0, 0, 0, 0, 0, 0, 0, 0, 0, 0, 0, 0, 0, 0, 0, 0,\n",
       "        0, 0, 0, 0, 0, 0, 0, 0, 0, 0, 0, 0, 0, 0, 0, 1, 1, 1, 1, 1, 1, 1,\n",
       "        1, 1, 1, 1, 1, 1, 1, 1, 1, 1, 1, 1, 1, 1, 1, 1, 1, 1, 1, 1, 1, 1,\n",
       "        1, 1, 1, 1, 1, 1, 1, 1, 1, 1, 1, 1, 1, 1, 1, 1, 1, 1, 1, 1, 1, 1,\n",
       "        1, 1, 1, 1, 1, 1, 1, 1, 1, 1, 1, 1, 1, 1, 1, 1, 1, 1, 1, 1, 2, 2,\n",
       "        2, 2, 2, 2, 2, 2, 2, 2, 2, 2, 2, 2, 2, 2, 2, 2, 2, 2, 2, 2, 2, 2,\n",
       "        2, 2, 2, 2, 2, 2, 2, 2, 2, 2, 2, 2, 2, 2, 2, 2, 2, 2, 2, 2, 2, 2,\n",
       "        2, 2]),\n",
       " 'frame': None,\n",
       " 'target_names': array(['class_0', 'class_1', 'class_2'], dtype='<U7'),\n",
       " 'DESCR': '.. _wine_dataset:\\n\\nWine recognition dataset\\n------------------------\\n\\n**Data Set Characteristics:**\\n\\n    :Number of Instances: 178 (50 in each of three classes)\\n    :Number of Attributes: 13 numeric, predictive attributes and the class\\n    :Attribute Information:\\n \\t\\t- Alcohol\\n \\t\\t- Malic acid\\n \\t\\t- Ash\\n\\t\\t- Alcalinity of ash  \\n \\t\\t- Magnesium\\n\\t\\t- Total phenols\\n \\t\\t- Flavanoids\\n \\t\\t- Nonflavanoid phenols\\n \\t\\t- Proanthocyanins\\n\\t\\t- Color intensity\\n \\t\\t- Hue\\n \\t\\t- OD280/OD315 of diluted wines\\n \\t\\t- Proline\\n\\n    - class:\\n            - class_0\\n            - class_1\\n            - class_2\\n\\t\\t\\n    :Summary Statistics:\\n    \\n    ============================= ==== ===== ======= =====\\n                                   Min   Max   Mean     SD\\n    ============================= ==== ===== ======= =====\\n    Alcohol:                      11.0  14.8    13.0   0.8\\n    Malic Acid:                   0.74  5.80    2.34  1.12\\n    Ash:                          1.36  3.23    2.36  0.27\\n    Alcalinity of Ash:            10.6  30.0    19.5   3.3\\n    Magnesium:                    70.0 162.0    99.7  14.3\\n    Total Phenols:                0.98  3.88    2.29  0.63\\n    Flavanoids:                   0.34  5.08    2.03  1.00\\n    Nonflavanoid Phenols:         0.13  0.66    0.36  0.12\\n    Proanthocyanins:              0.41  3.58    1.59  0.57\\n    Colour Intensity:              1.3  13.0     5.1   2.3\\n    Hue:                          0.48  1.71    0.96  0.23\\n    OD280/OD315 of diluted wines: 1.27  4.00    2.61  0.71\\n    Proline:                       278  1680     746   315\\n    ============================= ==== ===== ======= =====\\n\\n    :Missing Attribute Values: None\\n    :Class Distribution: class_0 (59), class_1 (71), class_2 (48)\\n    :Creator: R.A. Fisher\\n    :Donor: Michael Marshall (MARSHALL%PLU@io.arc.nasa.gov)\\n    :Date: July, 1988\\n\\nThis is a copy of UCI ML Wine recognition datasets.\\nhttps://archive.ics.uci.edu/ml/machine-learning-databases/wine/wine.data\\n\\nThe data is the results of a chemical analysis of wines grown in the same\\nregion in Italy by three different cultivators. There are thirteen different\\nmeasurements taken for different constituents found in the three types of\\nwine.\\n\\nOriginal Owners: \\n\\nForina, M. et al, PARVUS - \\nAn Extendible Package for Data Exploration, Classification and Correlation. \\nInstitute of Pharmaceutical and Food Analysis and Technologies,\\nVia Brigata Salerno, 16147 Genoa, Italy.\\n\\nCitation:\\n\\nLichman, M. (2013). UCI Machine Learning Repository\\n[https://archive.ics.uci.edu/ml]. Irvine, CA: University of California,\\nSchool of Information and Computer Science. \\n\\n.. topic:: References\\n\\n  (1) S. Aeberhard, D. Coomans and O. de Vel, \\n  Comparison of Classifiers in High Dimensional Settings, \\n  Tech. Rep. no. 92-02, (1992), Dept. of Computer Science and Dept. of  \\n  Mathematics and Statistics, James Cook University of North Queensland. \\n  (Also submitted to Technometrics). \\n\\n  The data was used with many others for comparing various \\n  classifiers. The classes are separable, though only RDA \\n  has achieved 100% correct classification. \\n  (RDA : 100%, QDA 99.4%, LDA 98.9%, 1NN 96.1% (z-transformed data)) \\n  (All results using the leave-one-out technique) \\n\\n  (2) S. Aeberhard, D. Coomans and O. de Vel, \\n  \"THE CLASSIFICATION PERFORMANCE OF RDA\" \\n  Tech. Rep. no. 92-01, (1992), Dept. of Computer Science and Dept. of \\n  Mathematics and Statistics, James Cook University of North Queensland. \\n  (Also submitted to Journal of Chemometrics).\\n',\n",
       " 'feature_names': ['alcohol',\n",
       "  'malic_acid',\n",
       "  'ash',\n",
       "  'alcalinity_of_ash',\n",
       "  'magnesium',\n",
       "  'total_phenols',\n",
       "  'flavanoids',\n",
       "  'nonflavanoid_phenols',\n",
       "  'proanthocyanins',\n",
       "  'color_intensity',\n",
       "  'hue',\n",
       "  'od280/od315_of_diluted_wines',\n",
       "  'proline']}"
      ]
     },
     "execution_count": 3,
     "metadata": {},
     "output_type": "execute_result"
    }
   ],
   "source": [
    "wine"
   ]
  },
  {
   "cell_type": "code",
   "execution_count": 4,
   "id": "625c9297-f703-4ffc-8962-05bac2bc876a",
   "metadata": {},
   "outputs": [
    {
     "data": {
      "text/plain": [
       "array([[1.423e+01, 1.710e+00, 2.430e+00, ..., 1.040e+00, 3.920e+00,\n",
       "        1.065e+03],\n",
       "       [1.320e+01, 1.780e+00, 2.140e+00, ..., 1.050e+00, 3.400e+00,\n",
       "        1.050e+03],\n",
       "       [1.316e+01, 2.360e+00, 2.670e+00, ..., 1.030e+00, 3.170e+00,\n",
       "        1.185e+03],\n",
       "       ...,\n",
       "       [1.327e+01, 4.280e+00, 2.260e+00, ..., 5.900e-01, 1.560e+00,\n",
       "        8.350e+02],\n",
       "       [1.317e+01, 2.590e+00, 2.370e+00, ..., 6.000e-01, 1.620e+00,\n",
       "        8.400e+02],\n",
       "       [1.413e+01, 4.100e+00, 2.740e+00, ..., 6.100e-01, 1.600e+00,\n",
       "        5.600e+02]])"
      ]
     },
     "execution_count": 4,
     "metadata": {},
     "output_type": "execute_result"
    }
   ],
   "source": [
    "wine.data"
   ]
  },
  {
   "cell_type": "code",
   "execution_count": 5,
   "id": "dce88aef-37b7-4e99-b8b0-b24858c37c59",
   "metadata": {},
   "outputs": [
    {
     "data": {
      "text/plain": [
       "array([0, 0, 0, 0, 0, 0, 0, 0, 0, 0, 0, 0, 0, 0, 0, 0, 0, 0, 0, 0, 0, 0,\n",
       "       0, 0, 0, 0, 0, 0, 0, 0, 0, 0, 0, 0, 0, 0, 0, 0, 0, 0, 0, 0, 0, 0,\n",
       "       0, 0, 0, 0, 0, 0, 0, 0, 0, 0, 0, 0, 0, 0, 0, 1, 1, 1, 1, 1, 1, 1,\n",
       "       1, 1, 1, 1, 1, 1, 1, 1, 1, 1, 1, 1, 1, 1, 1, 1, 1, 1, 1, 1, 1, 1,\n",
       "       1, 1, 1, 1, 1, 1, 1, 1, 1, 1, 1, 1, 1, 1, 1, 1, 1, 1, 1, 1, 1, 1,\n",
       "       1, 1, 1, 1, 1, 1, 1, 1, 1, 1, 1, 1, 1, 1, 1, 1, 1, 1, 1, 1, 2, 2,\n",
       "       2, 2, 2, 2, 2, 2, 2, 2, 2, 2, 2, 2, 2, 2, 2, 2, 2, 2, 2, 2, 2, 2,\n",
       "       2, 2, 2, 2, 2, 2, 2, 2, 2, 2, 2, 2, 2, 2, 2, 2, 2, 2, 2, 2, 2, 2,\n",
       "       2, 2])"
      ]
     },
     "execution_count": 5,
     "metadata": {},
     "output_type": "execute_result"
    }
   ],
   "source": [
    "wine.target"
   ]
  },
  {
   "cell_type": "code",
   "execution_count": 6,
   "id": "dae39fb9-d0de-4344-b755-9c2cd124a263",
   "metadata": {},
   "outputs": [
    {
     "data": {
      "text/plain": [
       "(178, 13)"
      ]
     },
     "execution_count": 6,
     "metadata": {},
     "output_type": "execute_result"
    }
   ],
   "source": [
    "wine.data.shape"
   ]
  },
  {
   "cell_type": "code",
   "execution_count": 7,
   "id": "be19586b-a721-44a3-a449-04f093e5f8fe",
   "metadata": {},
   "outputs": [
    {
     "data": {
      "text/html": [
       "<div>\n",
       "<style scoped>\n",
       "    .dataframe tbody tr th:only-of-type {\n",
       "        vertical-align: middle;\n",
       "    }\n",
       "\n",
       "    .dataframe tbody tr th {\n",
       "        vertical-align: top;\n",
       "    }\n",
       "\n",
       "    .dataframe thead th {\n",
       "        text-align: right;\n",
       "    }\n",
       "</style>\n",
       "<table border=\"1\" class=\"dataframe\">\n",
       "  <thead>\n",
       "    <tr style=\"text-align: right;\">\n",
       "      <th></th>\n",
       "      <th>0</th>\n",
       "      <th>1</th>\n",
       "      <th>2</th>\n",
       "      <th>3</th>\n",
       "      <th>4</th>\n",
       "      <th>5</th>\n",
       "      <th>6</th>\n",
       "      <th>7</th>\n",
       "      <th>8</th>\n",
       "      <th>9</th>\n",
       "      <th>10</th>\n",
       "      <th>11</th>\n",
       "      <th>12</th>\n",
       "      <th>0</th>\n",
       "    </tr>\n",
       "  </thead>\n",
       "  <tbody>\n",
       "    <tr>\n",
       "      <th>0</th>\n",
       "      <td>14.23</td>\n",
       "      <td>1.71</td>\n",
       "      <td>2.43</td>\n",
       "      <td>15.6</td>\n",
       "      <td>127.0</td>\n",
       "      <td>2.80</td>\n",
       "      <td>3.06</td>\n",
       "      <td>0.28</td>\n",
       "      <td>2.29</td>\n",
       "      <td>5.64</td>\n",
       "      <td>1.04</td>\n",
       "      <td>3.92</td>\n",
       "      <td>1065.0</td>\n",
       "      <td>0</td>\n",
       "    </tr>\n",
       "    <tr>\n",
       "      <th>1</th>\n",
       "      <td>13.20</td>\n",
       "      <td>1.78</td>\n",
       "      <td>2.14</td>\n",
       "      <td>11.2</td>\n",
       "      <td>100.0</td>\n",
       "      <td>2.65</td>\n",
       "      <td>2.76</td>\n",
       "      <td>0.26</td>\n",
       "      <td>1.28</td>\n",
       "      <td>4.38</td>\n",
       "      <td>1.05</td>\n",
       "      <td>3.40</td>\n",
       "      <td>1050.0</td>\n",
       "      <td>0</td>\n",
       "    </tr>\n",
       "    <tr>\n",
       "      <th>2</th>\n",
       "      <td>13.16</td>\n",
       "      <td>2.36</td>\n",
       "      <td>2.67</td>\n",
       "      <td>18.6</td>\n",
       "      <td>101.0</td>\n",
       "      <td>2.80</td>\n",
       "      <td>3.24</td>\n",
       "      <td>0.30</td>\n",
       "      <td>2.81</td>\n",
       "      <td>5.68</td>\n",
       "      <td>1.03</td>\n",
       "      <td>3.17</td>\n",
       "      <td>1185.0</td>\n",
       "      <td>0</td>\n",
       "    </tr>\n",
       "    <tr>\n",
       "      <th>3</th>\n",
       "      <td>14.37</td>\n",
       "      <td>1.95</td>\n",
       "      <td>2.50</td>\n",
       "      <td>16.8</td>\n",
       "      <td>113.0</td>\n",
       "      <td>3.85</td>\n",
       "      <td>3.49</td>\n",
       "      <td>0.24</td>\n",
       "      <td>2.18</td>\n",
       "      <td>7.80</td>\n",
       "      <td>0.86</td>\n",
       "      <td>3.45</td>\n",
       "      <td>1480.0</td>\n",
       "      <td>0</td>\n",
       "    </tr>\n",
       "    <tr>\n",
       "      <th>4</th>\n",
       "      <td>13.24</td>\n",
       "      <td>2.59</td>\n",
       "      <td>2.87</td>\n",
       "      <td>21.0</td>\n",
       "      <td>118.0</td>\n",
       "      <td>2.80</td>\n",
       "      <td>2.69</td>\n",
       "      <td>0.39</td>\n",
       "      <td>1.82</td>\n",
       "      <td>4.32</td>\n",
       "      <td>1.04</td>\n",
       "      <td>2.93</td>\n",
       "      <td>735.0</td>\n",
       "      <td>0</td>\n",
       "    </tr>\n",
       "    <tr>\n",
       "      <th>...</th>\n",
       "      <td>...</td>\n",
       "      <td>...</td>\n",
       "      <td>...</td>\n",
       "      <td>...</td>\n",
       "      <td>...</td>\n",
       "      <td>...</td>\n",
       "      <td>...</td>\n",
       "      <td>...</td>\n",
       "      <td>...</td>\n",
       "      <td>...</td>\n",
       "      <td>...</td>\n",
       "      <td>...</td>\n",
       "      <td>...</td>\n",
       "      <td>...</td>\n",
       "    </tr>\n",
       "    <tr>\n",
       "      <th>173</th>\n",
       "      <td>13.71</td>\n",
       "      <td>5.65</td>\n",
       "      <td>2.45</td>\n",
       "      <td>20.5</td>\n",
       "      <td>95.0</td>\n",
       "      <td>1.68</td>\n",
       "      <td>0.61</td>\n",
       "      <td>0.52</td>\n",
       "      <td>1.06</td>\n",
       "      <td>7.70</td>\n",
       "      <td>0.64</td>\n",
       "      <td>1.74</td>\n",
       "      <td>740.0</td>\n",
       "      <td>2</td>\n",
       "    </tr>\n",
       "    <tr>\n",
       "      <th>174</th>\n",
       "      <td>13.40</td>\n",
       "      <td>3.91</td>\n",
       "      <td>2.48</td>\n",
       "      <td>23.0</td>\n",
       "      <td>102.0</td>\n",
       "      <td>1.80</td>\n",
       "      <td>0.75</td>\n",
       "      <td>0.43</td>\n",
       "      <td>1.41</td>\n",
       "      <td>7.30</td>\n",
       "      <td>0.70</td>\n",
       "      <td>1.56</td>\n",
       "      <td>750.0</td>\n",
       "      <td>2</td>\n",
       "    </tr>\n",
       "    <tr>\n",
       "      <th>175</th>\n",
       "      <td>13.27</td>\n",
       "      <td>4.28</td>\n",
       "      <td>2.26</td>\n",
       "      <td>20.0</td>\n",
       "      <td>120.0</td>\n",
       "      <td>1.59</td>\n",
       "      <td>0.69</td>\n",
       "      <td>0.43</td>\n",
       "      <td>1.35</td>\n",
       "      <td>10.20</td>\n",
       "      <td>0.59</td>\n",
       "      <td>1.56</td>\n",
       "      <td>835.0</td>\n",
       "      <td>2</td>\n",
       "    </tr>\n",
       "    <tr>\n",
       "      <th>176</th>\n",
       "      <td>13.17</td>\n",
       "      <td>2.59</td>\n",
       "      <td>2.37</td>\n",
       "      <td>20.0</td>\n",
       "      <td>120.0</td>\n",
       "      <td>1.65</td>\n",
       "      <td>0.68</td>\n",
       "      <td>0.53</td>\n",
       "      <td>1.46</td>\n",
       "      <td>9.30</td>\n",
       "      <td>0.60</td>\n",
       "      <td>1.62</td>\n",
       "      <td>840.0</td>\n",
       "      <td>2</td>\n",
       "    </tr>\n",
       "    <tr>\n",
       "      <th>177</th>\n",
       "      <td>14.13</td>\n",
       "      <td>4.10</td>\n",
       "      <td>2.74</td>\n",
       "      <td>24.5</td>\n",
       "      <td>96.0</td>\n",
       "      <td>2.05</td>\n",
       "      <td>0.76</td>\n",
       "      <td>0.56</td>\n",
       "      <td>1.35</td>\n",
       "      <td>9.20</td>\n",
       "      <td>0.61</td>\n",
       "      <td>1.60</td>\n",
       "      <td>560.0</td>\n",
       "      <td>2</td>\n",
       "    </tr>\n",
       "  </tbody>\n",
       "</table>\n",
       "<p>178 rows × 14 columns</p>\n",
       "</div>"
      ],
      "text/plain": [
       "        0     1     2     3      4     5     6     7     8      9     10  \\\n",
       "0    14.23  1.71  2.43  15.6  127.0  2.80  3.06  0.28  2.29   5.64  1.04   \n",
       "1    13.20  1.78  2.14  11.2  100.0  2.65  2.76  0.26  1.28   4.38  1.05   \n",
       "2    13.16  2.36  2.67  18.6  101.0  2.80  3.24  0.30  2.81   5.68  1.03   \n",
       "3    14.37  1.95  2.50  16.8  113.0  3.85  3.49  0.24  2.18   7.80  0.86   \n",
       "4    13.24  2.59  2.87  21.0  118.0  2.80  2.69  0.39  1.82   4.32  1.04   \n",
       "..     ...   ...   ...   ...    ...   ...   ...   ...   ...    ...   ...   \n",
       "173  13.71  5.65  2.45  20.5   95.0  1.68  0.61  0.52  1.06   7.70  0.64   \n",
       "174  13.40  3.91  2.48  23.0  102.0  1.80  0.75  0.43  1.41   7.30  0.70   \n",
       "175  13.27  4.28  2.26  20.0  120.0  1.59  0.69  0.43  1.35  10.20  0.59   \n",
       "176  13.17  2.59  2.37  20.0  120.0  1.65  0.68  0.53  1.46   9.30  0.60   \n",
       "177  14.13  4.10  2.74  24.5   96.0  2.05  0.76  0.56  1.35   9.20  0.61   \n",
       "\n",
       "       11      12  0   \n",
       "0    3.92  1065.0   0  \n",
       "1    3.40  1050.0   0  \n",
       "2    3.17  1185.0   0  \n",
       "3    3.45  1480.0   0  \n",
       "4    2.93   735.0   0  \n",
       "..    ...     ...  ..  \n",
       "173  1.74   740.0   2  \n",
       "174  1.56   750.0   2  \n",
       "175  1.56   835.0   2  \n",
       "176  1.62   840.0   2  \n",
       "177  1.60   560.0   2  \n",
       "\n",
       "[178 rows x 14 columns]"
      ]
     },
     "execution_count": 7,
     "metadata": {},
     "output_type": "execute_result"
    }
   ],
   "source": [
    "import pandas as pd\n",
    "pd.concat([pd.DataFrame(wine.data),pd.DataFrame(wine.target)],axis=1)"
   ]
  },
  {
   "cell_type": "code",
   "execution_count": 8,
   "id": "20e2817f-a525-48c0-87dc-dc659ab8d464",
   "metadata": {},
   "outputs": [
    {
     "data": {
      "text/plain": [
       "['alcohol',\n",
       " 'malic_acid',\n",
       " 'ash',\n",
       " 'alcalinity_of_ash',\n",
       " 'magnesium',\n",
       " 'total_phenols',\n",
       " 'flavanoids',\n",
       " 'nonflavanoid_phenols',\n",
       " 'proanthocyanins',\n",
       " 'color_intensity',\n",
       " 'hue',\n",
       " 'od280/od315_of_diluted_wines',\n",
       " 'proline']"
      ]
     },
     "execution_count": 8,
     "metadata": {},
     "output_type": "execute_result"
    }
   ],
   "source": [
    "wine.feature_names"
   ]
  },
  {
   "cell_type": "code",
   "execution_count": 9,
   "id": "3dc3c987-6681-4932-9b9f-45f8dc5407c9",
   "metadata": {},
   "outputs": [
    {
     "data": {
      "text/plain": [
       "array(['class_0', 'class_1', 'class_2'], dtype='<U7')"
      ]
     },
     "execution_count": 9,
     "metadata": {},
     "output_type": "execute_result"
    }
   ],
   "source": [
    "wine.target_names"
   ]
  },
  {
   "cell_type": "code",
   "execution_count": 10,
   "id": "1234f914-f4ae-4941-9d99-a5d5d43f9c54",
   "metadata": {},
   "outputs": [],
   "source": [
    "Xtrain, Xtest, Ytrain, Ytest = train_test_split(wine.data,wine.target,test_size = 0.3)"
   ]
  },
  {
   "cell_type": "code",
   "execution_count": 11,
   "id": "390b54dc-8c77-4757-b8f9-3ba163ffd9a0",
   "metadata": {},
   "outputs": [
    {
     "data": {
      "text/plain": [
       "array([[1.264e+01, 1.360e+00, 2.020e+00, ..., 9.800e-01, 1.590e+00,\n",
       "        4.500e+02],\n",
       "       [1.387e+01, 1.900e+00, 2.800e+00, ..., 1.250e+00, 3.400e+00,\n",
       "        9.150e+02],\n",
       "       [1.377e+01, 1.900e+00, 2.680e+00, ..., 1.130e+00, 2.930e+00,\n",
       "        1.375e+03],\n",
       "       ...,\n",
       "       [1.327e+01, 4.280e+00, 2.260e+00, ..., 5.900e-01, 1.560e+00,\n",
       "        8.350e+02],\n",
       "       [1.269e+01, 1.530e+00, 2.260e+00, ..., 9.600e-01, 2.060e+00,\n",
       "        4.950e+02],\n",
       "       [1.287e+01, 4.610e+00, 2.480e+00, ..., 5.400e-01, 1.860e+00,\n",
       "        6.250e+02]])"
      ]
     },
     "execution_count": 11,
     "metadata": {},
     "output_type": "execute_result"
    }
   ],
   "source": [
    "Xtrain"
   ]
  },
  {
   "cell_type": "code",
   "execution_count": 12,
   "id": "344b771e-a7f0-4f4b-8096-efc0aecc55af",
   "metadata": {},
   "outputs": [
    {
     "data": {
      "text/plain": [
       "(124, 13)"
      ]
     },
     "execution_count": 12,
     "metadata": {},
     "output_type": "execute_result"
    }
   ],
   "source": [
    "Xtrain.shape"
   ]
  },
  {
   "cell_type": "code",
   "execution_count": 13,
   "id": "87042616-551c-43fb-b72b-404146bd5504",
   "metadata": {},
   "outputs": [
    {
     "data": {
      "text/plain": [
       "array([1, 0, 0, 0, 2, 2, 2, 1, 2, 2, 1, 1, 0, 2, 1, 1, 1, 0, 0, 2, 1, 1,\n",
       "       2, 1, 0, 1, 0, 0, 2, 1, 1, 0, 1, 0, 1, 1, 1, 1, 2, 0, 0, 1, 1, 1,\n",
       "       0, 0, 0, 1, 1, 2, 1, 0, 1, 2, 0, 1, 2, 2, 0, 2, 2, 0, 1, 2, 0, 2,\n",
       "       0, 1, 1, 1, 1, 0, 0, 1, 0, 1, 1, 0, 2, 2, 1, 2, 1, 1, 2, 1, 2, 1,\n",
       "       1, 0, 0, 2, 0, 0, 2, 1, 1, 0, 0, 0, 1, 1, 1, 2, 0, 2, 1, 2, 2, 1,\n",
       "       1, 2, 1, 1, 0, 0, 0, 0, 2, 1, 1, 2, 1, 2])"
      ]
     },
     "execution_count": 13,
     "metadata": {},
     "output_type": "execute_result"
    }
   ],
   "source": [
    "Ytrain"
   ]
  },
  {
   "cell_type": "code",
   "execution_count": 14,
   "id": "bbedd7ba-2410-4fbe-9cd2-ce873503d0ed",
   "metadata": {},
   "outputs": [
    {
     "data": {
      "text/plain": [
       "(124,)"
      ]
     },
     "execution_count": 14,
     "metadata": {},
     "output_type": "execute_result"
    }
   ],
   "source": [
    "Ytrain.shape"
   ]
  },
  {
   "cell_type": "code",
   "execution_count": 15,
   "id": "1ce36d31-a618-421d-a19b-f32bf819b86d",
   "metadata": {},
   "outputs": [
    {
     "data": {
      "text/plain": [
       "0.9259259259259259"
      ]
     },
     "execution_count": 15,
     "metadata": {},
     "output_type": "execute_result"
    }
   ],
   "source": [
    "clf = tree.DecisionTreeClassifier(criterion = \"entropy\")\n",
    "clf = clf.fit(Xtrain, Ytrain)\n",
    "score = clf.score(Xtest, Ytest) #准确度accuracy\n",
    "\n",
    "score"
   ]
  },
  {
   "cell_type": "code",
   "execution_count": 16,
   "id": "d88066a8-51c8-4c57-9867-e86acf1e3cb1",
   "metadata": {},
   "outputs": [
    {
     "data": {
      "image/svg+xml": [
       "<?xml version=\"1.0\" encoding=\"UTF-8\" standalone=\"no\"?>\n",
       "<!DOCTYPE svg PUBLIC \"-//W3C//DTD SVG 1.1//EN\"\n",
       " \"http://www.w3.org/Graphics/SVG/1.1/DTD/svg11.dtd\">\n",
       "<!-- Generated by graphviz version 2.49.3 (20211023.0002)\n",
       " -->\n",
       "<!-- Title: Tree Pages: 1 -->\n",
       "<svg width=\"840pt\" height=\"433pt\"\n",
       " viewBox=\"0.00 0.00 840.00 433.00\" xmlns=\"http://www.w3.org/2000/svg\" xmlns:xlink=\"http://www.w3.org/1999/xlink\">\n",
       "<g id=\"graph0\" class=\"graph\" transform=\"scale(1 1) rotate(0) translate(4 429)\">\n",
       "<title>Tree</title>\n",
       "<polygon fill=\"white\" stroke=\"transparent\" points=\"-4,4 -4,-429 836,-429 836,4 -4,4\"/>\n",
       "<!-- 0 -->\n",
       "<g id=\"node1\" class=\"node\">\n",
       "<title>0</title>\n",
       "<path fill=\"#dcfae9\" stroke=\"black\" d=\"M438,-425C438,-425 325,-425 325,-425 319,-425 313,-419 313,-413 313,-413 313,-354 313,-354 313,-348 319,-342 325,-342 325,-342 438,-342 438,-342 444,-342 450,-348 450,-354 450,-354 450,-413 450,-413 450,-419 444,-425 438,-425\"/>\n",
       "<text text-anchor=\"middle\" x=\"381.5\" y=\"-409.8\" font-family=\"Helvetica,sans-Serif\" font-size=\"14.00\">alcohol &lt;= 12.78</text>\n",
       "<text text-anchor=\"middle\" x=\"381.5\" y=\"-394.8\" font-family=\"Helvetica,sans-Serif\" font-size=\"14.00\">entropy = 1.555</text>\n",
       "<text text-anchor=\"middle\" x=\"381.5\" y=\"-379.8\" font-family=\"Helvetica,sans-Serif\" font-size=\"14.00\">samples = 124</text>\n",
       "<text text-anchor=\"middle\" x=\"381.5\" y=\"-364.8\" font-family=\"Helvetica,sans-Serif\" font-size=\"14.00\">value = [38, 53, 33]</text>\n",
       "<text text-anchor=\"middle\" x=\"381.5\" y=\"-349.8\" font-family=\"Helvetica,sans-Serif\" font-size=\"14.00\">class = 雪莉</text>\n",
       "</g>\n",
       "<!-- 1 -->\n",
       "<g id=\"node2\" class=\"node\">\n",
       "<title>1</title>\n",
       "<path fill=\"#49e78c\" stroke=\"black\" d=\"M397,-306C397,-306 142,-306 142,-306 136,-306 130,-300 130,-294 130,-294 130,-235 130,-235 130,-229 136,-223 142,-223 142,-223 397,-223 397,-223 403,-223 409,-229 409,-235 409,-235 409,-294 409,-294 409,-300 403,-306 397,-306\"/>\n",
       "<text text-anchor=\"middle\" x=\"269.5\" y=\"-290.8\" font-family=\"Helvetica,sans-Serif\" font-size=\"14.00\">od280/od315_of_diluted_wines &lt;= 1.775</text>\n",
       "<text text-anchor=\"middle\" x=\"269.5\" y=\"-275.8\" font-family=\"Helvetica,sans-Serif\" font-size=\"14.00\">entropy = 0.391</text>\n",
       "<text text-anchor=\"middle\" x=\"269.5\" y=\"-260.8\" font-family=\"Helvetica,sans-Serif\" font-size=\"14.00\">samples = 52</text>\n",
       "<text text-anchor=\"middle\" x=\"269.5\" y=\"-245.8\" font-family=\"Helvetica,sans-Serif\" font-size=\"14.00\">value = [0, 48, 4]</text>\n",
       "<text text-anchor=\"middle\" x=\"269.5\" y=\"-230.8\" font-family=\"Helvetica,sans-Serif\" font-size=\"14.00\">class = 雪莉</text>\n",
       "</g>\n",
       "<!-- 0&#45;&gt;1 -->\n",
       "<g id=\"edge1\" class=\"edge\">\n",
       "<title>0&#45;&gt;1</title>\n",
       "<path fill=\"none\" stroke=\"black\" d=\"M342.64,-341.91C333.87,-332.74 324.47,-322.93 315.44,-313.49\"/>\n",
       "<polygon fill=\"black\" stroke=\"black\" points=\"317.73,-310.82 308.29,-306.02 312.68,-315.66 317.73,-310.82\"/>\n",
       "<text text-anchor=\"middle\" x=\"307.74\" y=\"-327.31\" font-family=\"Helvetica,sans-Serif\" font-size=\"14.00\">True</text>\n",
       "</g>\n",
       "<!-- 6 -->\n",
       "<g id=\"node7\" class=\"node\">\n",
       "<title>6</title>\n",
       "<path fill=\"#fae5d6\" stroke=\"black\" d=\"M548,-306C548,-306 439,-306 439,-306 433,-306 427,-300 427,-294 427,-294 427,-235 427,-235 427,-229 433,-223 439,-223 439,-223 548,-223 548,-223 554,-223 560,-229 560,-235 560,-235 560,-294 560,-294 560,-300 554,-306 548,-306\"/>\n",
       "<text text-anchor=\"middle\" x=\"493.5\" y=\"-290.8\" font-family=\"Helvetica,sans-Serif\" font-size=\"14.00\">flavanoids &lt;= 1.68</text>\n",
       "<text text-anchor=\"middle\" x=\"493.5\" y=\"-275.8\" font-family=\"Helvetica,sans-Serif\" font-size=\"14.00\">entropy = 1.282</text>\n",
       "<text text-anchor=\"middle\" x=\"493.5\" y=\"-260.8\" font-family=\"Helvetica,sans-Serif\" font-size=\"14.00\">samples = 72</text>\n",
       "<text text-anchor=\"middle\" x=\"493.5\" y=\"-245.8\" font-family=\"Helvetica,sans-Serif\" font-size=\"14.00\">value = [38, 5, 29]</text>\n",
       "<text text-anchor=\"middle\" x=\"493.5\" y=\"-230.8\" font-family=\"Helvetica,sans-Serif\" font-size=\"14.00\">class = 琴酒</text>\n",
       "</g>\n",
       "<!-- 0&#45;&gt;6 -->\n",
       "<g id=\"edge6\" class=\"edge\">\n",
       "<title>0&#45;&gt;6</title>\n",
       "<path fill=\"none\" stroke=\"black\" d=\"M420.36,-341.91C429.13,-332.74 438.53,-322.93 447.56,-313.49\"/>\n",
       "<polygon fill=\"black\" stroke=\"black\" points=\"450.32,-315.66 454.71,-306.02 445.27,-310.82 450.32,-315.66\"/>\n",
       "<text text-anchor=\"middle\" x=\"455.26\" y=\"-327.31\" font-family=\"Helvetica,sans-Serif\" font-size=\"14.00\">False</text>\n",
       "</g>\n",
       "<!-- 2 -->\n",
       "<g id=\"node3\" class=\"node\">\n",
       "<title>2</title>\n",
       "<path fill=\"#a06aec\" stroke=\"black\" d=\"M193.5,-187C193.5,-187 101.5,-187 101.5,-187 95.5,-187 89.5,-181 89.5,-175 89.5,-175 89.5,-116 89.5,-116 89.5,-110 95.5,-104 101.5,-104 101.5,-104 193.5,-104 193.5,-104 199.5,-104 205.5,-110 205.5,-116 205.5,-116 205.5,-175 205.5,-175 205.5,-181 199.5,-187 193.5,-187\"/>\n",
       "<text text-anchor=\"middle\" x=\"147.5\" y=\"-171.8\" font-family=\"Helvetica,sans-Serif\" font-size=\"14.00\">hue &lt;= 0.9</text>\n",
       "<text text-anchor=\"middle\" x=\"147.5\" y=\"-156.8\" font-family=\"Helvetica,sans-Serif\" font-size=\"14.00\">entropy = 0.722</text>\n",
       "<text text-anchor=\"middle\" x=\"147.5\" y=\"-141.8\" font-family=\"Helvetica,sans-Serif\" font-size=\"14.00\">samples = 5</text>\n",
       "<text text-anchor=\"middle\" x=\"147.5\" y=\"-126.8\" font-family=\"Helvetica,sans-Serif\" font-size=\"14.00\">value = [0, 1, 4]</text>\n",
       "<text text-anchor=\"middle\" x=\"147.5\" y=\"-111.8\" font-family=\"Helvetica,sans-Serif\" font-size=\"14.00\">class = 贝尔</text>\n",
       "</g>\n",
       "<!-- 1&#45;&gt;2 -->\n",
       "<g id=\"edge2\" class=\"edge\">\n",
       "<title>1&#45;&gt;2</title>\n",
       "<path fill=\"none\" stroke=\"black\" d=\"M227.17,-222.91C217.52,-213.65 207.18,-203.73 197.25,-194.21\"/>\n",
       "<polygon fill=\"black\" stroke=\"black\" points=\"199.39,-191.42 189.75,-187.02 194.55,-196.47 199.39,-191.42\"/>\n",
       "</g>\n",
       "<!-- 5 -->\n",
       "<g id=\"node6\" class=\"node\">\n",
       "<title>5</title>\n",
       "<path fill=\"#39e581\" stroke=\"black\" d=\"M333,-179.5C333,-179.5 236,-179.5 236,-179.5 230,-179.5 224,-173.5 224,-167.5 224,-167.5 224,-123.5 224,-123.5 224,-117.5 230,-111.5 236,-111.5 236,-111.5 333,-111.5 333,-111.5 339,-111.5 345,-117.5 345,-123.5 345,-123.5 345,-167.5 345,-167.5 345,-173.5 339,-179.5 333,-179.5\"/>\n",
       "<text text-anchor=\"middle\" x=\"284.5\" y=\"-164.3\" font-family=\"Helvetica,sans-Serif\" font-size=\"14.00\">entropy = 0.0</text>\n",
       "<text text-anchor=\"middle\" x=\"284.5\" y=\"-149.3\" font-family=\"Helvetica,sans-Serif\" font-size=\"14.00\">samples = 47</text>\n",
       "<text text-anchor=\"middle\" x=\"284.5\" y=\"-134.3\" font-family=\"Helvetica,sans-Serif\" font-size=\"14.00\">value = [0, 47, 0]</text>\n",
       "<text text-anchor=\"middle\" x=\"284.5\" y=\"-119.3\" font-family=\"Helvetica,sans-Serif\" font-size=\"14.00\">class = 雪莉</text>\n",
       "</g>\n",
       "<!-- 1&#45;&gt;5 -->\n",
       "<g id=\"edge5\" class=\"edge\">\n",
       "<title>1&#45;&gt;5</title>\n",
       "<path fill=\"none\" stroke=\"black\" d=\"M274.7,-222.91C276.08,-212.2 277.56,-200.62 278.95,-189.78\"/>\n",
       "<polygon fill=\"black\" stroke=\"black\" points=\"282.45,-190.03 280.25,-179.67 275.5,-189.14 282.45,-190.03\"/>\n",
       "</g>\n",
       "<!-- 3 -->\n",
       "<g id=\"node4\" class=\"node\">\n",
       "<title>3</title>\n",
       "<path fill=\"#8139e5\" stroke=\"black\" d=\"M101,-68C101,-68 12,-68 12,-68 6,-68 0,-62 0,-56 0,-56 0,-12 0,-12 0,-6 6,0 12,0 12,0 101,0 101,0 107,0 113,-6 113,-12 113,-12 113,-56 113,-56 113,-62 107,-68 101,-68\"/>\n",
       "<text text-anchor=\"middle\" x=\"56.5\" y=\"-52.8\" font-family=\"Helvetica,sans-Serif\" font-size=\"14.00\">entropy = 0.0</text>\n",
       "<text text-anchor=\"middle\" x=\"56.5\" y=\"-37.8\" font-family=\"Helvetica,sans-Serif\" font-size=\"14.00\">samples = 4</text>\n",
       "<text text-anchor=\"middle\" x=\"56.5\" y=\"-22.8\" font-family=\"Helvetica,sans-Serif\" font-size=\"14.00\">value = [0, 0, 4]</text>\n",
       "<text text-anchor=\"middle\" x=\"56.5\" y=\"-7.8\" font-family=\"Helvetica,sans-Serif\" font-size=\"14.00\">class = 贝尔</text>\n",
       "</g>\n",
       "<!-- 2&#45;&gt;3 -->\n",
       "<g id=\"edge3\" class=\"edge\">\n",
       "<title>2&#45;&gt;3</title>\n",
       "<path fill=\"none\" stroke=\"black\" d=\"M113.61,-103.73C106.11,-94.7 98.16,-85.12 90.64,-76.08\"/>\n",
       "<polygon fill=\"black\" stroke=\"black\" points=\"93.26,-73.75 84.17,-68.3 87.87,-78.23 93.26,-73.75\"/>\n",
       "</g>\n",
       "<!-- 4 -->\n",
       "<g id=\"node5\" class=\"node\">\n",
       "<title>4</title>\n",
       "<path fill=\"#39e581\" stroke=\"black\" d=\"M232,-68C232,-68 143,-68 143,-68 137,-68 131,-62 131,-56 131,-56 131,-12 131,-12 131,-6 137,0 143,0 143,0 232,0 232,0 238,0 244,-6 244,-12 244,-12 244,-56 244,-56 244,-62 238,-68 232,-68\"/>\n",
       "<text text-anchor=\"middle\" x=\"187.5\" y=\"-52.8\" font-family=\"Helvetica,sans-Serif\" font-size=\"14.00\">entropy = 0.0</text>\n",
       "<text text-anchor=\"middle\" x=\"187.5\" y=\"-37.8\" font-family=\"Helvetica,sans-Serif\" font-size=\"14.00\">samples = 1</text>\n",
       "<text text-anchor=\"middle\" x=\"187.5\" y=\"-22.8\" font-family=\"Helvetica,sans-Serif\" font-size=\"14.00\">value = [0, 1, 0]</text>\n",
       "<text text-anchor=\"middle\" x=\"187.5\" y=\"-7.8\" font-family=\"Helvetica,sans-Serif\" font-size=\"14.00\">class = 雪莉</text>\n",
       "</g>\n",
       "<!-- 2&#45;&gt;4 -->\n",
       "<g id=\"edge4\" class=\"edge\">\n",
       "<title>2&#45;&gt;4</title>\n",
       "<path fill=\"none\" stroke=\"black\" d=\"M162.39,-103.73C165.49,-95.24 168.77,-86.28 171.89,-77.73\"/>\n",
       "<polygon fill=\"black\" stroke=\"black\" points=\"175.19,-78.89 175.34,-68.3 168.62,-76.49 175.19,-78.89\"/>\n",
       "</g>\n",
       "<!-- 7 -->\n",
       "<g id=\"node8\" class=\"node\">\n",
       "<title>7</title>\n",
       "<path fill=\"#8540e6\" stroke=\"black\" d=\"M553,-187C553,-187 404,-187 404,-187 398,-187 392,-181 392,-175 392,-175 392,-116 392,-116 392,-110 398,-104 404,-104 404,-104 553,-104 553,-104 559,-104 565,-110 565,-116 565,-116 565,-175 565,-175 565,-181 559,-187 553,-187\"/>\n",
       "<text text-anchor=\"middle\" x=\"478.5\" y=\"-171.8\" font-family=\"Helvetica,sans-Serif\" font-size=\"14.00\">alcalinity_of_ash &lt;= 17.5</text>\n",
       "<text text-anchor=\"middle\" x=\"478.5\" y=\"-156.8\" font-family=\"Helvetica,sans-Serif\" font-size=\"14.00\">entropy = 0.211</text>\n",
       "<text text-anchor=\"middle\" x=\"478.5\" y=\"-141.8\" font-family=\"Helvetica,sans-Serif\" font-size=\"14.00\">samples = 30</text>\n",
       "<text text-anchor=\"middle\" x=\"478.5\" y=\"-126.8\" font-family=\"Helvetica,sans-Serif\" font-size=\"14.00\">value = [0, 1, 29]</text>\n",
       "<text text-anchor=\"middle\" x=\"478.5\" y=\"-111.8\" font-family=\"Helvetica,sans-Serif\" font-size=\"14.00\">class = 贝尔</text>\n",
       "</g>\n",
       "<!-- 6&#45;&gt;7 -->\n",
       "<g id=\"edge7\" class=\"edge\">\n",
       "<title>6&#45;&gt;7</title>\n",
       "<path fill=\"none\" stroke=\"black\" d=\"M488.3,-222.91C487.23,-214.56 486.09,-205.67 484.98,-197.02\"/>\n",
       "<polygon fill=\"black\" stroke=\"black\" points=\"488.44,-196.49 483.69,-187.02 481.5,-197.38 488.44,-196.49\"/>\n",
       "</g>\n",
       "<!-- 10 -->\n",
       "<g id=\"node11\" class=\"node\">\n",
       "<title>10</title>\n",
       "<path fill=\"#e88e4e\" stroke=\"black\" d=\"M692,-187C692,-187 595,-187 595,-187 589,-187 583,-181 583,-175 583,-175 583,-116 583,-116 583,-110 589,-104 595,-104 595,-104 692,-104 692,-104 698,-104 704,-110 704,-116 704,-116 704,-175 704,-175 704,-181 698,-187 692,-187\"/>\n",
       "<text text-anchor=\"middle\" x=\"643.5\" y=\"-171.8\" font-family=\"Helvetica,sans-Serif\" font-size=\"14.00\">proline &lt;= 655.0</text>\n",
       "<text text-anchor=\"middle\" x=\"643.5\" y=\"-156.8\" font-family=\"Helvetica,sans-Serif\" font-size=\"14.00\">entropy = 0.454</text>\n",
       "<text text-anchor=\"middle\" x=\"643.5\" y=\"-141.8\" font-family=\"Helvetica,sans-Serif\" font-size=\"14.00\">samples = 42</text>\n",
       "<text text-anchor=\"middle\" x=\"643.5\" y=\"-126.8\" font-family=\"Helvetica,sans-Serif\" font-size=\"14.00\">value = [38, 4, 0]</text>\n",
       "<text text-anchor=\"middle\" x=\"643.5\" y=\"-111.8\" font-family=\"Helvetica,sans-Serif\" font-size=\"14.00\">class = 琴酒</text>\n",
       "</g>\n",
       "<!-- 6&#45;&gt;10 -->\n",
       "<g id=\"edge10\" class=\"edge\">\n",
       "<title>6&#45;&gt;10</title>\n",
       "<path fill=\"none\" stroke=\"black\" d=\"M545.54,-222.91C557.76,-213.38 570.87,-203.15 583.41,-193.37\"/>\n",
       "<polygon fill=\"black\" stroke=\"black\" points=\"585.82,-195.93 591.55,-187.02 581.51,-190.41 585.82,-195.93\"/>\n",
       "</g>\n",
       "<!-- 8 -->\n",
       "<g id=\"node9\" class=\"node\">\n",
       "<title>8</title>\n",
       "<path fill=\"#39e581\" stroke=\"black\" d=\"M396,-68C396,-68 307,-68 307,-68 301,-68 295,-62 295,-56 295,-56 295,-12 295,-12 295,-6 301,0 307,0 307,0 396,0 396,0 402,0 408,-6 408,-12 408,-12 408,-56 408,-56 408,-62 402,-68 396,-68\"/>\n",
       "<text text-anchor=\"middle\" x=\"351.5\" y=\"-52.8\" font-family=\"Helvetica,sans-Serif\" font-size=\"14.00\">entropy = 0.0</text>\n",
       "<text text-anchor=\"middle\" x=\"351.5\" y=\"-37.8\" font-family=\"Helvetica,sans-Serif\" font-size=\"14.00\">samples = 1</text>\n",
       "<text text-anchor=\"middle\" x=\"351.5\" y=\"-22.8\" font-family=\"Helvetica,sans-Serif\" font-size=\"14.00\">value = [0, 1, 0]</text>\n",
       "<text text-anchor=\"middle\" x=\"351.5\" y=\"-7.8\" font-family=\"Helvetica,sans-Serif\" font-size=\"14.00\">class = 雪莉</text>\n",
       "</g>\n",
       "<!-- 7&#45;&gt;8 -->\n",
       "<g id=\"edge8\" class=\"edge\">\n",
       "<title>7&#45;&gt;8</title>\n",
       "<path fill=\"none\" stroke=\"black\" d=\"M431.21,-103.73C420.31,-94.33 408.74,-84.35 397.88,-74.99\"/>\n",
       "<polygon fill=\"black\" stroke=\"black\" points=\"399.98,-72.18 390.12,-68.3 395.41,-77.48 399.98,-72.18\"/>\n",
       "</g>\n",
       "<!-- 9 -->\n",
       "<g id=\"node10\" class=\"node\">\n",
       "<title>9</title>\n",
       "<path fill=\"#8139e5\" stroke=\"black\" d=\"M535,-68C535,-68 438,-68 438,-68 432,-68 426,-62 426,-56 426,-56 426,-12 426,-12 426,-6 432,0 438,0 438,0 535,0 535,0 541,0 547,-6 547,-12 547,-12 547,-56 547,-56 547,-62 541,-68 535,-68\"/>\n",
       "<text text-anchor=\"middle\" x=\"486.5\" y=\"-52.8\" font-family=\"Helvetica,sans-Serif\" font-size=\"14.00\">entropy = 0.0</text>\n",
       "<text text-anchor=\"middle\" x=\"486.5\" y=\"-37.8\" font-family=\"Helvetica,sans-Serif\" font-size=\"14.00\">samples = 29</text>\n",
       "<text text-anchor=\"middle\" x=\"486.5\" y=\"-22.8\" font-family=\"Helvetica,sans-Serif\" font-size=\"14.00\">value = [0, 0, 29]</text>\n",
       "<text text-anchor=\"middle\" x=\"486.5\" y=\"-7.8\" font-family=\"Helvetica,sans-Serif\" font-size=\"14.00\">class = 贝尔</text>\n",
       "</g>\n",
       "<!-- 7&#45;&gt;9 -->\n",
       "<g id=\"edge9\" class=\"edge\">\n",
       "<title>7&#45;&gt;9</title>\n",
       "<path fill=\"none\" stroke=\"black\" d=\"M481.48,-103.73C482.09,-95.43 482.73,-86.67 483.34,-78.28\"/>\n",
       "<polygon fill=\"black\" stroke=\"black\" points=\"486.83,-78.53 484.07,-68.3 479.85,-78.02 486.83,-78.53\"/>\n",
       "</g>\n",
       "<!-- 11 -->\n",
       "<g id=\"node12\" class=\"node\">\n",
       "<title>11</title>\n",
       "<path fill=\"#39e581\" stroke=\"black\" d=\"M681,-68C681,-68 592,-68 592,-68 586,-68 580,-62 580,-56 580,-56 580,-12 580,-12 580,-6 586,0 592,0 592,0 681,0 681,0 687,0 693,-6 693,-12 693,-12 693,-56 693,-56 693,-62 687,-68 681,-68\"/>\n",
       "<text text-anchor=\"middle\" x=\"636.5\" y=\"-52.8\" font-family=\"Helvetica,sans-Serif\" font-size=\"14.00\">entropy = 0.0</text>\n",
       "<text text-anchor=\"middle\" x=\"636.5\" y=\"-37.8\" font-family=\"Helvetica,sans-Serif\" font-size=\"14.00\">samples = 4</text>\n",
       "<text text-anchor=\"middle\" x=\"636.5\" y=\"-22.8\" font-family=\"Helvetica,sans-Serif\" font-size=\"14.00\">value = [0, 4, 0]</text>\n",
       "<text text-anchor=\"middle\" x=\"636.5\" y=\"-7.8\" font-family=\"Helvetica,sans-Serif\" font-size=\"14.00\">class = 雪莉</text>\n",
       "</g>\n",
       "<!-- 10&#45;&gt;11 -->\n",
       "<g id=\"edge11\" class=\"edge\">\n",
       "<title>10&#45;&gt;11</title>\n",
       "<path fill=\"none\" stroke=\"black\" d=\"M640.89,-103.73C640.36,-95.43 639.8,-86.67 639.27,-78.28\"/>\n",
       "<polygon fill=\"black\" stroke=\"black\" points=\"642.76,-78.06 638.63,-68.3 635.77,-78.5 642.76,-78.06\"/>\n",
       "</g>\n",
       "<!-- 12 -->\n",
       "<g id=\"node13\" class=\"node\">\n",
       "<title>12</title>\n",
       "<path fill=\"#e58139\" stroke=\"black\" d=\"M820,-68C820,-68 723,-68 723,-68 717,-68 711,-62 711,-56 711,-56 711,-12 711,-12 711,-6 717,0 723,0 723,0 820,0 820,0 826,0 832,-6 832,-12 832,-12 832,-56 832,-56 832,-62 826,-68 820,-68\"/>\n",
       "<text text-anchor=\"middle\" x=\"771.5\" y=\"-52.8\" font-family=\"Helvetica,sans-Serif\" font-size=\"14.00\">entropy = 0.0</text>\n",
       "<text text-anchor=\"middle\" x=\"771.5\" y=\"-37.8\" font-family=\"Helvetica,sans-Serif\" font-size=\"14.00\">samples = 38</text>\n",
       "<text text-anchor=\"middle\" x=\"771.5\" y=\"-22.8\" font-family=\"Helvetica,sans-Serif\" font-size=\"14.00\">value = [38, 0, 0]</text>\n",
       "<text text-anchor=\"middle\" x=\"771.5\" y=\"-7.8\" font-family=\"Helvetica,sans-Serif\" font-size=\"14.00\">class = 琴酒</text>\n",
       "</g>\n",
       "<!-- 10&#45;&gt;12 -->\n",
       "<g id=\"edge12\" class=\"edge\">\n",
       "<title>10&#45;&gt;12</title>\n",
       "<path fill=\"none\" stroke=\"black\" d=\"M691.16,-103.73C702.14,-94.33 713.81,-84.35 724.76,-74.99\"/>\n",
       "<polygon fill=\"black\" stroke=\"black\" points=\"727.25,-77.46 732.57,-68.3 722.7,-72.14 727.25,-77.46\"/>\n",
       "</g>\n",
       "</g>\n",
       "</svg>\n"
      ],
      "text/plain": [
       "<graphviz.sources.Source at 0x26c94109280>"
      ]
     },
     "execution_count": 16,
     "metadata": {},
     "output_type": "execute_result"
    }
   ],
   "source": [
    "feature_name = ['alcohol', 'malic_acid', 'ash', 'alcalinity_of_ash', 'magnesium', 'total_phenols', 'flavanoids', 'nonflavanoid_phenols', 'proanthocyanins', 'color_intensity', 'hue', 'od280/od315_of_diluted_wines','proline']\n",
    "\n",
    "import graphviz\n",
    "dot_data = tree.export_graphviz(clf\n",
    "                                ,feature_names = feature_name\n",
    "                                ,class_names = [\"琴酒\",\"雪莉\",\"贝尔\"]\n",
    "                                ,filled = True\n",
    "                                ,rounded = True\n",
    "                               ) #filled 颜色   rounded 圆角框\n",
    "graph = graphviz.Source(dot_data)\n",
    "graph"
   ]
  },
  {
   "cell_type": "code",
   "execution_count": 17,
   "id": "81b5ebdf-9322-4219-bf51-3429b7854dd3",
   "metadata": {},
   "outputs": [
    {
     "name": "stdout",
     "output_type": "stream",
     "text": [
      "digraph Tree {\n",
      "node [shape=box, style=\"filled, rounded\", color=\"black\", fontname=helvetica] ;\n",
      "edge [fontname=helvetica] ;\n",
      "0 [label=\"alcohol <= 12.78\\nentropy = 1.555\\nsamples = 124\\nvalue = [38, 53, 33]\\nclass = 雪莉\", fillcolor=\"#dcfae9\"] ;\n",
      "1 [label=\"od280/od315_of_diluted_wines <= 1.775\\nentropy = 0.391\\nsamples = 52\\nvalue = [0, 48, 4]\\nclass = 雪莉\", fillcolor=\"#49e78c\"] ;\n",
      "0 -> 1 [labeldistance=2.5, labelangle=45, headlabel=\"True\"] ;\n",
      "2 [label=\"hue <= 0.9\\nentropy = 0.722\\nsamples = 5\\nvalue = [0, 1, 4]\\nclass = 贝尔\", fillcolor=\"#a06aec\"] ;\n",
      "1 -> 2 ;\n",
      "3 [label=\"entropy = 0.0\\nsamples = 4\\nvalue = [0, 0, 4]\\nclass = 贝尔\", fillcolor=\"#8139e5\"] ;\n",
      "2 -> 3 ;\n",
      "4 [label=\"entropy = 0.0\\nsamples = 1\\nvalue = [0, 1, 0]\\nclass = 雪莉\", fillcolor=\"#39e581\"] ;\n",
      "2 -> 4 ;\n",
      "5 [label=\"entropy = 0.0\\nsamples = 47\\nvalue = [0, 47, 0]\\nclass = 雪莉\", fillcolor=\"#39e581\"] ;\n",
      "1 -> 5 ;\n",
      "6 [label=\"flavanoids <= 1.68\\nentropy = 1.282\\nsamples = 72\\nvalue = [38, 5, 29]\\nclass = 琴酒\", fillcolor=\"#fae5d6\"] ;\n",
      "0 -> 6 [labeldistance=2.5, labelangle=-45, headlabel=\"False\"] ;\n",
      "7 [label=\"alcalinity_of_ash <= 17.5\\nentropy = 0.211\\nsamples = 30\\nvalue = [0, 1, 29]\\nclass = 贝尔\", fillcolor=\"#8540e6\"] ;\n",
      "6 -> 7 ;\n",
      "8 [label=\"entropy = 0.0\\nsamples = 1\\nvalue = [0, 1, 0]\\nclass = 雪莉\", fillcolor=\"#39e581\"] ;\n",
      "7 -> 8 ;\n",
      "9 [label=\"entropy = 0.0\\nsamples = 29\\nvalue = [0, 0, 29]\\nclass = 贝尔\", fillcolor=\"#8139e5\"] ;\n",
      "7 -> 9 ;\n",
      "10 [label=\"proline <= 655.0\\nentropy = 0.454\\nsamples = 42\\nvalue = [38, 4, 0]\\nclass = 琴酒\", fillcolor=\"#e88e4e\"] ;\n",
      "6 -> 10 ;\n",
      "11 [label=\"entropy = 0.0\\nsamples = 4\\nvalue = [0, 4, 0]\\nclass = 雪莉\", fillcolor=\"#39e581\"] ;\n",
      "10 -> 11 ;\n",
      "12 [label=\"entropy = 0.0\\nsamples = 38\\nvalue = [38, 0, 0]\\nclass = 琴酒\", fillcolor=\"#e58139\"] ;\n",
      "10 -> 12 ;\n",
      "}\n",
      "\n"
     ]
    }
   ],
   "source": [
    "print(graph)"
   ]
  },
  {
   "cell_type": "code",
   "execution_count": 18,
   "id": "69ae7d8f-e93b-4e84-84bc-9e6512e52add",
   "metadata": {},
   "outputs": [
    {
     "data": {
      "text/plain": [
       "array([0.41579251, 0.        , 0.        , 0.03279817, 0.        ,\n",
       "       0.        , 0.34710612, 0.        , 0.        , 0.        ,\n",
       "       0.01871693, 0.08677548, 0.09881079])"
      ]
     },
     "execution_count": 18,
     "metadata": {},
     "output_type": "execute_result"
    }
   ],
   "source": [
    "clf.feature_importances_"
   ]
  },
  {
   "cell_type": "code",
   "execution_count": 19,
   "id": "7d698b91-efc4-4f0e-9fbe-c4715196a131",
   "metadata": {},
   "outputs": [
    {
     "data": {
      "text/plain": [
       "[('alcohol', 0.4157925101467057),\n",
       " ('malic_acid', 0.0),\n",
       " ('ash', 0.0),\n",
       " ('alcalinity_of_ash', 0.03279817344868895),\n",
       " ('magnesium', 0.0),\n",
       " ('total_phenols', 0.0),\n",
       " ('flavanoids', 0.34710611893691323),\n",
       " ('nonflavanoid_phenols', 0.0),\n",
       " ('proanthocyanins', 0.0),\n",
       " ('color_intensity', 0.0),\n",
       " ('hue', 0.01871692953914341),\n",
       " ('od280/od315_of_diluted_wines', 0.08677547885374616),\n",
       " ('proline', 0.09881078907480251)]"
      ]
     },
     "execution_count": 19,
     "metadata": {},
     "output_type": "execute_result"
    }
   ],
   "source": [
    "[*zip(feature_name, clf.feature_importances_)]"
   ]
  },
  {
   "cell_type": "markdown",
   "id": "9aea5a78-1a13-4dc5-ab97-66cfd1c8e163",
   "metadata": {},
   "source": [
    "random_state设置随机模式，固定随机     splitter控制随机选项"
   ]
  },
  {
   "cell_type": "code",
   "execution_count": 20,
   "id": "4c335217-1865-4ac3-ab3c-3be0ef420d28",
   "metadata": {},
   "outputs": [
    {
     "data": {
      "text/plain": [
       "0.9259259259259259"
      ]
     },
     "execution_count": 20,
     "metadata": {},
     "output_type": "execute_result"
    }
   ],
   "source": [
    "clf = tree.DecisionTreeClassifier(criterion = \"entropy\"\n",
    "                                  , random_state=30\n",
    "                                  ,splitter=\"random\")\n",
    "clf = clf.fit(Xtrain, Ytrain)\n",
    "score = clf.score(Xtest, Ytest) #准确度accuracy\n",
    "\n",
    "score"
   ]
  },
  {
   "cell_type": "code",
   "execution_count": 21,
   "id": "13293d02-98b1-414c-b485-1eb81d07a472",
   "metadata": {},
   "outputs": [
    {
     "data": {
      "text/plain": [
       "1.0"
      ]
     },
     "execution_count": 21,
     "metadata": {},
     "output_type": "execute_result"
    }
   ],
   "source": [
    "#树对训练集的拟合程度\n",
    "score_train = clf.score(Xtrain, Ytrain)\n",
    "score_train"
   ]
  },
  {
   "cell_type": "markdown",
   "id": "e2e1487b-addd-4f1e-af8f-d75a21324c79",
   "metadata": {},
   "source": [
    "剪枝策略\n",
    "max_depth;\n",
    "min_samples_leaf;\n",
    "min_samples_split;\n",
    "max_features;\n",
    "min_impurity_decrease"
   ]
  },
  {
   "cell_type": "code",
   "execution_count": 22,
   "id": "d73461fd-fe1d-4e6d-8e6a-ebfb5508edc8",
   "metadata": {},
   "outputs": [
    {
     "data": {
      "text/plain": [
       "<function matplotlib.pyplot.show(close=None, block=None)>"
      ]
     },
     "execution_count": 22,
     "metadata": {},
     "output_type": "execute_result"
    },
    {
     "data": {
      "image/png": "[encoded data removed]",
      "text/plain": [
       "<Figure size 432x288 with 1 Axes>"
      ]
     },
     "metadata": {
      "needs_background": "light"
     },
     "output_type": "display_data"
    }
   ],
   "source": [
    "import matplotlib.pyplot as plt\n",
    "test = []\n",
    "for i in range(10):\n",
    "    clf = tree.DecisionTreeClassifier(max_depth = i+1\n",
    "                                     ,criterion = \"entropy\"\n",
    "                                     ,random_state = 20\n",
    "                                     ,splitter = \"random\"\n",
    "                                     )\n",
    "    clf = clf.fit(Xtrain, Ytrain)\n",
    "    score = clf.score(Xtest, Ytest)\n",
    "    test.append(score)\n",
    "plt.plot(range(1, 11), test, color = \"red\", label = \"max_depth\")\n",
    "plt.legend()\n",
    "plt.show"
   ]
  },
  {
   "cell_type": "markdown",
   "id": "08f1aa06-88d5-477d-b21f-62289740b8f9",
   "metadata": {},
   "source": [
    "目标权重参数：\n",
    "class_weight;\n",
    "min_weight_fraction_leaf"
   ]
  },
  {
   "cell_type": "code",
   "execution_count": null,
   "id": "9d0bb731-65d8-462f-975f-800fb82f1ac5",
   "metadata": {},
   "outputs": [],
   "source": []
  }
 ],
 "metadata": {
  "kernelspec": {
   "display_name": "Python 3",
   "language": "python",
   "name": "python3"
  },
  "language_info": {
   "codemirror_mode": {
    "name": "ipython",
    "version": 3
   },
   "file_extension": ".py",
   "mimetype": "text/x-python",
   "name": "python",
   "nbconvert_exporter": "python",
   "pygments_lexer": "ipython3",
   "version": "3.8.8"
  }
 },
 "nbformat": 4,
 "nbformat_minor": 5
}
